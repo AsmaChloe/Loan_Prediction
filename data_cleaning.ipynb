{
 "cells": [
  {
   "cell_type": "code",
   "execution_count": 78,
   "metadata": {
    "collapsed": true
   },
   "outputs": [],
   "source": [
    "import pandas as pd\n",
    "import re"
   ]
  },
  {
   "cell_type": "code",
   "execution_count": 40,
   "outputs": [],
   "source": [
    "test_X = pd.read_csv('data/Test Data.csv')\n",
    "test_Y = pd.read_csv('data/Sample Prediction Dataset.csv')\n",
    "train_data = pd.read_csv('data/Training Data.csv')"
   ],
   "metadata": {
    "collapsed": false
   }
  },
  {
   "cell_type": "code",
   "execution_count": 41,
   "outputs": [],
   "source": [
    "#change name of column to lowercase\n",
    "test_X.columns = test_X.columns.str.lower()\n",
    "test_Y.columns = test_Y.columns.str.lower()\n",
    "train_data.columns = train_data.columns.str.lower()"
   ],
   "metadata": {
    "collapsed": false
   }
  },
  {
   "cell_type": "markdown",
   "source": [
    "# Checking shape of data"
   ],
   "metadata": {
    "collapsed": false
   }
  },
  {
   "cell_type": "code",
   "execution_count": 42,
   "outputs": [
    {
     "name": "stdout",
     "output_type": "stream",
     "text": [
      "Test data and test labels have same number of rows\n"
     ]
    }
   ],
   "source": [
    "if test_X.shape[0] == test_Y.shape[0] :\n",
    "    print('Test data and test labels have same number of rows')\n",
    "else:\n",
    "    print('Test data and test labels do not have same number of rows')"
   ],
   "metadata": {
    "collapsed": false
   }
  },
  {
   "cell_type": "code",
   "execution_count": 43,
   "outputs": [
    {
     "name": "stdout",
     "output_type": "stream",
     "text": [
      "Train data and test data have same number of columns\n"
     ]
    }
   ],
   "source": [
    "if test_X.shape[1] + test_Y.shape[1] - 1 == train_data.shape[1] :\n",
    "    print('Train data and test data have same number of columns')\n",
    "else:\n",
    "    print('Train data and test data do not have same number of columns')"
   ],
   "metadata": {
    "collapsed": false
   }
  },
  {
   "cell_type": "markdown",
   "source": [
    "# Checking for null values"
   ],
   "metadata": {
    "collapsed": false
   }
  },
  {
   "cell_type": "code",
   "execution_count": 44,
   "outputs": [
    {
     "name": "stdout",
     "output_type": "stream",
     "text": [
      "Null values in train data :  False\n"
     ]
    }
   ],
   "source": [
    "print('Null values in train data : ',train_data.isnull().values.any())"
   ],
   "metadata": {
    "collapsed": false
   }
  },
  {
   "cell_type": "code",
   "execution_count": 45,
   "outputs": [
    {
     "name": "stdout",
     "output_type": "stream",
     "text": [
      "Null values in test data :  False\n"
     ]
    }
   ],
   "source": [
    "print('Null values in test data : ',test_X.isnull().values.any())"
   ],
   "metadata": {
    "collapsed": false
   }
  },
  {
   "cell_type": "markdown",
   "source": [
    "# See column names"
   ],
   "metadata": {
    "collapsed": false
   }
  },
  {
   "cell_type": "code",
   "execution_count": 47,
   "outputs": [
    {
     "data": {
      "text/plain": "Index(['id', 'income', 'age', 'experience', 'married/single',\n       'house_ownership', 'car_ownership', 'profession', 'city', 'state',\n       'current_job_yrs', 'current_house_yrs'],\n      dtype='object')"
     },
     "execution_count": 47,
     "metadata": {},
     "output_type": "execute_result"
    }
   ],
   "source": [
    "test_X.columns"
   ],
   "metadata": {
    "collapsed": false
   }
  },
  {
   "cell_type": "code",
   "execution_count": 48,
   "outputs": [
    {
     "data": {
      "text/plain": "Index(['id', 'risk_flag'], dtype='object')"
     },
     "execution_count": 48,
     "metadata": {},
     "output_type": "execute_result"
    }
   ],
   "source": [
    "test_Y.columns"
   ],
   "metadata": {
    "collapsed": false
   }
  },
  {
   "cell_type": "code",
   "execution_count": 49,
   "outputs": [
    {
     "data": {
      "text/plain": "Index(['id', 'income', 'age', 'experience', 'married/single',\n       'house_ownership', 'car_ownership', 'profession', 'city', 'state',\n       'current_job_yrs', 'current_house_yrs', 'risk_flag'],\n      dtype='object')"
     },
     "execution_count": 49,
     "metadata": {},
     "output_type": "execute_result"
    }
   ],
   "source": [
    "train_data.columns"
   ],
   "metadata": {
    "collapsed": false
   }
  },
  {
   "cell_type": "markdown",
   "source": [
    "renaming columns"
   ],
   "metadata": {
    "collapsed": false
   }
  },
  {
   "cell_type": "code",
   "execution_count": 51,
   "outputs": [],
   "source": [
    "#rename column married/single to married_single\n",
    "train_data.rename(columns={'married/single':'married_single'}, inplace=True)\n",
    "test_X.rename(columns={'married/single':'married_single'}, inplace=True)"
   ],
   "metadata": {
    "collapsed": false
   }
  },
  {
   "cell_type": "code",
   "execution_count": 54,
   "outputs": [
    {
     "data": {
      "text/plain": "Index(['id', 'income', 'age', 'experience', 'married_single',\n       'house_ownership', 'car_ownership', 'profession', 'city', 'state',\n       'current_job_yrs', 'current_house_yrs'],\n      dtype='object')"
     },
     "execution_count": 54,
     "metadata": {},
     "output_type": "execute_result"
    }
   ],
   "source": [
    "test_X.columns"
   ],
   "metadata": {
    "collapsed": false
   }
  },
  {
   "cell_type": "code",
   "execution_count": 55,
   "outputs": [
    {
     "data": {
      "text/plain": "Index(['id', 'income', 'age', 'experience', 'married_single',\n       'house_ownership', 'car_ownership', 'profession', 'city', 'state',\n       'current_job_yrs', 'current_house_yrs', 'risk_flag'],\n      dtype='object')"
     },
     "execution_count": 55,
     "metadata": {},
     "output_type": "execute_result"
    }
   ],
   "source": [
    "train_data.columns"
   ],
   "metadata": {
    "collapsed": false
   }
  },
  {
   "cell_type": "markdown",
   "source": [
    "# See content of columns"
   ],
   "metadata": {
    "collapsed": false
   }
  },
  {
   "cell_type": "markdown",
   "source": [
    "## car_ownership"
   ],
   "metadata": {
    "collapsed": false
   }
  },
  {
   "cell_type": "code",
   "execution_count": 58,
   "outputs": [],
   "source": [
    "#no to 0 and yes to 1\n",
    "train_data['car_ownership'] = train_data['car_ownership'].map({'no':0, 'yes':1})\n",
    "test_X['car_ownership'] = test_X['car_ownership'].map({'no':0, 'yes':1})"
   ],
   "metadata": {
    "collapsed": false
   }
  },
  {
   "cell_type": "markdown",
   "source": [
    "## profession"
   ],
   "metadata": {
    "collapsed": false
   }
  },
  {
   "cell_type": "code",
   "execution_count": 60,
   "outputs": [],
   "source": [
    "#to lower case\n",
    "train_data['profession'] = train_data['profession'].str.lower()\n",
    "test_X['profession'] = test_X['profession'].str.lower()"
   ],
   "metadata": {
    "collapsed": false
   }
  },
  {
   "cell_type": "markdown",
   "source": [
    "## city"
   ],
   "metadata": {
    "collapsed": false
   }
  },
  {
   "cell_type": "code",
   "execution_count": 63,
   "outputs": [],
   "source": [
    "#to lower case\n",
    "train_data['city'] = train_data['city'].str.lower()\n",
    "test_X['city'] = test_X['city'].str.lower()"
   ],
   "metadata": {
    "collapsed": false
   }
  },
  {
   "cell_type": "code",
   "execution_count": 81,
   "outputs": [
    {
     "data": {
      "text/plain": "aurangabad       1543\nvijayanagaram    1259\nbhopal           1208\nbulandshahr      1185\nsaharsa          1180\n                 ... \nujjain            486\nwarangal          459\nbettiah           457\nkatni             448\nkaraikudi         431\nName: city, Length: 316, dtype: int64"
     },
     "execution_count": 81,
     "metadata": {},
     "output_type": "execute_result"
    }
   ],
   "source": [
    "train_data['city'].value_counts()"
   ],
   "metadata": {
    "collapsed": false
   }
  },
  {
   "cell_type": "code",
   "execution_count": 82,
   "outputs": [],
   "source": [
    "#with regex get rows which city contains not only alphabets\n",
    "train_data['city'] = train_data['city'].str.replace(r'\\[\\d+\\]', '', regex=True)\n",
    "test_X['city'] = test_X['city'].str.replace(r'\\[\\d+\\]', '', regex=True)"
   ],
   "metadata": {
    "collapsed": false
   }
  },
  {
   "cell_type": "code",
   "execution_count": 83,
   "outputs": [],
   "source": [
    "#save data to csv file\n",
    "train_data.to_csv('data/train_data_cleaned.csv', index=False)\n",
    "test_X.to_csv('data/test_data_cleaned.csv', index=False)\n",
    "test_Y.to_csv('data/test_labels_cleaned.csv', index=False)"
   ],
   "metadata": {
    "collapsed": false
   }
  }
 ],
 "metadata": {
  "kernelspec": {
   "display_name": "Python 3",
   "language": "python",
   "name": "python3"
  },
  "language_info": {
   "codemirror_mode": {
    "name": "ipython",
    "version": 2
   },
   "file_extension": ".py",
   "mimetype": "text/x-python",
   "name": "python",
   "nbconvert_exporter": "python",
   "pygments_lexer": "ipython2",
   "version": "2.7.6"
  }
 },
 "nbformat": 4,
 "nbformat_minor": 0
}
